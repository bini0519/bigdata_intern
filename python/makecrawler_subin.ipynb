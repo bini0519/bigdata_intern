{
 "cells": [
  {
   "cell_type": "code",
   "execution_count": 26,
   "metadata": {},
   "outputs": [],
   "source": [
    "import requests\n",
    "import lxml.html\n",
    "import re\n",
    "import time"
   ]
  },
  {
   "cell_type": "code",
   "execution_count": null,
   "metadata": {},
   "outputs": [],
   "source": [
    "response = requests.get('http://www.hanbit.co.kr/store/books/new_book_list.html')\n",
    "root = lxml.html.fromstring(response.content)\n",
    "# 모든 링크를 절대 URL로 변환\n",
    "root.make_links_absolute(response.url)\n",
    "\n",
    "# 목록에서 javascript 제거\n",
    "for a in root.cssselect('.view_box .book_tit a'):\n",
    "    url = a.get('href')\n",
    "    print(url)"
   ]
  },
  {
   "cell_type": "code",
   "execution_count": 28,
   "metadata": {},
   "outputs": [],
   "source": [
    "def main():\n",
    "    # 여러 페이지에서 크롤링을 위해 Session 사용\n",
    "    session = requests.Session()  \n",
    "    response = session.get('https://www.innisfree.com/kr/ko/BestSellerList.do')\n",
    "    urls = scrape_list_page(response)\n",
    "    for url in urls:\n",
    "        time.sleep(1) # 1초간 대기\n",
    "        response = session.get(url)  # Session을 사용해 상세 페이지를 추출\n",
    "        ebook = scrape_detail_page(response)  # 상세 페이지에서 상세 정보를 추출\n",
    "        print(ebook)  # 상세 정보 출력"
   ]
  },
  {
   "cell_type": "code",
   "execution_count": 19,
   "metadata": {},
   "outputs": [],
   "source": [
    "def scrape_list_page(response):\n",
    "    root = lxml.html.fromstring(response.content)\n",
    "    #절대경로로 변환\n",
    "    root.make_links_absolute(response.url)\n",
    "    for a in root.cssselect('a.pdtCont'):\n",
    "        url = a.get('href')\n",
    "        # yield 구문으로 제너레이터의 요소 반환\n",
    "        yield url"
   ]
  },
  {
   "cell_type": "code",
   "execution_count": 30,
   "metadata": {},
   "outputs": [],
   "source": [
    "def scrape_detail_page(response):\n",
    "    root = lxml.html.fromstring(response.content)\n",
    "    ebook = {\n",
    "        'url': response.url,\n",
    "        'name': root.cssselect('.pdtName')[0].text_content(),\n",
    "        'price': root.cssselect('dd.price span.num')[0].text_content(),\n",
    "        'score': root.cssselect('span.reviewNum')[0].text_content(),\n",
    "        'review': root.cssselect('div.review span.reviewLength span.num')[0].text_content(),\n",
    "        'content': [normalize_spaces(p.text_content())\n",
    "            for p in root.cssselect('div.pdtViewCont p.pdtTxt')\n",
    "            if normalize_spaces(p.text_content()) != '']\n",
    "        \n",
    "    }\n",
    "    return ebook"
   ]
  },
  {
   "cell_type": "code",
   "execution_count": 22,
   "metadata": {},
   "outputs": [],
   "source": [
    "#연결된 공백을 하나의 공백으로 변경\n",
    "def normalize_spaces(s):\n",
    "    return re.sub(r'\\s+', ' ', s).strip()"
   ]
  },
  {
   "cell_type": "code",
   "execution_count": 32,
   "metadata": {},
   "outputs": [
    {
     "name": "stdout",
     "output_type": "stream",
     "text": [
      "{'url': 'https://www.innisfree.com/kr/ko/ProductView.do?prdSeq=28250', 'name': '블랙티 유스 인핸싱 앰플 30mL', 'price': '35,000', 'score': '4.8', 'review': '3549', 'content': ['지친 피부의 컨디션을 빠르게 회복시켜 주어 숙면한 듯 건강한 피부로 만들어 주는 나이트 집중 케어 앰플']}\n",
      "{'url': 'https://www.innisfree.com/kr/ko/ProductView.do?prdSeq=16958', 'name': '비자 시카 밤 [대용량] 80mL', 'price': '32,000', 'score': '4.7', 'review': '1039', 'content': ['피부 스트레스 진정 및 피부 고민 부위 케어에 도움을 주는 젤 타입 밤 [대용량]']}\n",
      "{'url': 'https://www.innisfree.com/kr/ko/ProductView.do?prdSeq=25416', 'name': '한란 럭키 박스 ', 'price': '12,500', 'score': '4.7', 'review': '552', 'content': ['눈 속에서 피어나는 제주한란의 생명력, 한란 인리치드 크림에 대한 사랑에 보답하는 마음으로 스페셜한 행운을 담은 한정판 [한란 럭키박스]']}\n",
      "{'url': 'https://www.innisfree.com/kr/ko/ProductView.do?prdSeq=22596', 'name': '포레스트 포맨 올인원 에센스 4종 100mL', 'price': '25,000', 'score': '4.7', 'review': '945', 'content': ['숲에서 찾은 피부보호막 성분 블랙이스트를 함유하고, 남성 피부 고민을 케어해주어 건강하고 자신감 넘치는 피부로 가꾸어주는 올인원 에센스 4종']}\n",
      "{'url': 'https://www.innisfree.com/kr/ko/ProductView.do?prdSeq=12177', 'name': '퍼펙트 9 리페어 EX 스킨 케어 세트 ', 'price': '68,000', 'score': '4.7', 'review': '441', 'content': ['농축된 질감으로 부드럽게 흡수되는 토탈 안티에이징 기획 세트']}\n",
      "{'url': 'https://www.innisfree.com/kr/ko/ProductView.do?prdSeq=5083', 'name': '화산송이 모공 폼 EX (대용량) 300mL', 'price': '12,000', 'score': '4.7', 'review': '2819', 'content': ['제주화산송이가 강력하게 피지를 흡착하여 모공을 깨끗하게 케어하는 모공 폼 대용량']}\n",
      "{'url': 'https://www.innisfree.com/kr/ko/ProductView.do?prdSeq=20416', 'name': '그린티 씨드 세럼 80mL', 'price': '24,000', 'score': '4.8', 'review': '7048', 'content': ['피부 각질층 10층까지 돌파하는 강력한 수분로켓, 그린티 씨드 세럼']}\n",
      "{'url': 'https://www.innisfree.com/kr/ko/ProductView.do?prdSeq=23956', 'name': '청보리 필링 토너 250mL', 'price': '13,000', 'score': '4.6', 'review': '1922', 'content': ['막 세안한 듯, 청량하고 개운한 피부결을 만들어주는 필링 토너']}\n",
      "{'url': 'https://www.innisfree.com/kr/ko/ProductView.do?prdSeq=24588', 'name': '블루베리 리밸런싱 스킨 [대용량] 500mL', 'price': '20,000', 'score': '4.9', 'review': '495', 'content': ['블루베리의 항산화력을 담아 건강한 피부ph 와 유수분 밸런스를 맞춰 편안한 피부로 가꿔주는 수분 스킨']}\n",
      "{'url': 'https://www.innisfree.com/kr/ko/ProductView.do?prdSeq=26743', 'name': '트루케어 비타민C 20 앰플 15mL', 'price': '25,000', 'score': '4.6', 'review': '1008', 'content': ['순수 비타민 C 20%가 함유되어 피부를 깨끗하게 밝혀주고 거칠어진 피부를 매끄럽게 가꿔주는 저자극 앰플']}\n",
      "{'url': 'https://www.innisfree.com/kr/ko/ProductView.do?prdSeq=20256', 'name': '링클 사이언스 스팟 트리트먼트 40mL', 'price': '35,000', 'score': '4.7', 'review': '2008', 'content': ['느슨해진 탄력을 강화하고 깊게 자리잡은 주름을 집중 개선하는 기능성 스팟 트리트먼트']}\n",
      "{'url': 'https://www.innisfree.com/kr/ko/ProductView.do?prdSeq=23882', 'name': '블루베리 리밸런싱 5.5 클렌저 LTD [대용량] 200mL', 'price': '9,000', 'score': '4.8', 'review': '356', 'content': ['블루베리 속살처럼 부드러운 거품이 피부 당김없이 건강한 피부 pH로 가꿔주는 약산성 폼클렌저']}\n",
      "{'url': 'https://www.innisfree.com/kr/ko/ProductView.do?prdSeq=27376', 'name': '그린티 씨드 세럼 [페이퍼보틀] 160mL', 'price': '34,000', 'score': '4.8', 'review': '275', 'content': ['기존 제품보다 플라스틱은 51.8% 줄이고, 지구를 생각하는 마음은 더 커진 그린티 씨드 세럼 [페이퍼보틀]']}\n",
      "{'url': 'https://www.innisfree.com/kr/ko/ProductView.do?prdSeq=20576', 'name': '마이 리얼 스퀴즈 마스크 EX 20mL', 'price': '1,100', 'score': '4.7', 'review': '4625', 'content': ['꽉 짜낸 신선한 자연 유래 원료가 다양한 피부 고민의 맞춤 솔루션을 제공하는 리얼 스퀴즈 마스크']}\n"
     ]
    },
    {
     "ename": "IndexError",
     "evalue": "list index out of range",
     "output_type": "error",
     "traceback": [
      "\u001b[1;31m---------------------------------------------------------------------------\u001b[0m",
      "\u001b[1;31mIndexError\u001b[0m                                Traceback (most recent call last)",
      "\u001b[1;32m<ipython-input-32-c7bc734e5e35>\u001b[0m in \u001b[0;36m<module>\u001b[1;34m\u001b[0m\n\u001b[0;32m      1\u001b[0m \u001b[1;32mif\u001b[0m \u001b[0m__name__\u001b[0m \u001b[1;33m==\u001b[0m \u001b[1;34m'__main__'\u001b[0m\u001b[1;33m:\u001b[0m\u001b[1;33m\u001b[0m\u001b[1;33m\u001b[0m\u001b[0m\n\u001b[1;32m----> 2\u001b[1;33m     \u001b[0mmain\u001b[0m\u001b[1;33m(\u001b[0m\u001b[1;33m)\u001b[0m\u001b[1;33m\u001b[0m\u001b[1;33m\u001b[0m\u001b[0m\n\u001b[0m",
      "\u001b[1;32m<ipython-input-28-9fcd6b8d682a>\u001b[0m in \u001b[0;36mmain\u001b[1;34m()\u001b[0m\n\u001b[0;32m      7\u001b[0m         \u001b[0mtime\u001b[0m\u001b[1;33m.\u001b[0m\u001b[0msleep\u001b[0m\u001b[1;33m(\u001b[0m\u001b[1;36m1\u001b[0m\u001b[1;33m)\u001b[0m \u001b[1;31m# 1초간 대기\u001b[0m\u001b[1;33m\u001b[0m\u001b[1;33m\u001b[0m\u001b[0m\n\u001b[0;32m      8\u001b[0m         \u001b[0mresponse\u001b[0m \u001b[1;33m=\u001b[0m \u001b[0msession\u001b[0m\u001b[1;33m.\u001b[0m\u001b[0mget\u001b[0m\u001b[1;33m(\u001b[0m\u001b[0murl\u001b[0m\u001b[1;33m)\u001b[0m  \u001b[1;31m# Session을 사용해 상세 페이지를 추출\u001b[0m\u001b[1;33m\u001b[0m\u001b[1;33m\u001b[0m\u001b[0m\n\u001b[1;32m----> 9\u001b[1;33m         \u001b[0mebook\u001b[0m \u001b[1;33m=\u001b[0m \u001b[0mscrape_detail_page\u001b[0m\u001b[1;33m(\u001b[0m\u001b[0mresponse\u001b[0m\u001b[1;33m)\u001b[0m  \u001b[1;31m# 상세 페이지에서 상세 정보를 추출\u001b[0m\u001b[1;33m\u001b[0m\u001b[1;33m\u001b[0m\u001b[0m\n\u001b[0m\u001b[0;32m     10\u001b[0m         \u001b[0mprint\u001b[0m\u001b[1;33m(\u001b[0m\u001b[0mebook\u001b[0m\u001b[1;33m)\u001b[0m  \u001b[1;31m# 상세 정보 출력\u001b[0m\u001b[1;33m\u001b[0m\u001b[1;33m\u001b[0m\u001b[0m\n",
      "\u001b[1;32m<ipython-input-30-cb1d0948bac8>\u001b[0m in \u001b[0;36mscrape_detail_page\u001b[1;34m(response)\u001b[0m\n\u001b[0;32m      6\u001b[0m         \u001b[1;34m'price'\u001b[0m\u001b[1;33m:\u001b[0m \u001b[0mroot\u001b[0m\u001b[1;33m.\u001b[0m\u001b[0mcssselect\u001b[0m\u001b[1;33m(\u001b[0m\u001b[1;34m'dd.price span.num'\u001b[0m\u001b[1;33m)\u001b[0m\u001b[1;33m[\u001b[0m\u001b[1;36m0\u001b[0m\u001b[1;33m]\u001b[0m\u001b[1;33m.\u001b[0m\u001b[0mtext_content\u001b[0m\u001b[1;33m(\u001b[0m\u001b[1;33m)\u001b[0m\u001b[1;33m,\u001b[0m\u001b[1;33m\u001b[0m\u001b[1;33m\u001b[0m\u001b[0m\n\u001b[0;32m      7\u001b[0m         \u001b[1;34m'score'\u001b[0m\u001b[1;33m:\u001b[0m \u001b[0mroot\u001b[0m\u001b[1;33m.\u001b[0m\u001b[0mcssselect\u001b[0m\u001b[1;33m(\u001b[0m\u001b[1;34m'span.reviewNum'\u001b[0m\u001b[1;33m)\u001b[0m\u001b[1;33m[\u001b[0m\u001b[1;36m0\u001b[0m\u001b[1;33m]\u001b[0m\u001b[1;33m.\u001b[0m\u001b[0mtext_content\u001b[0m\u001b[1;33m(\u001b[0m\u001b[1;33m)\u001b[0m\u001b[1;33m,\u001b[0m\u001b[1;33m\u001b[0m\u001b[1;33m\u001b[0m\u001b[0m\n\u001b[1;32m----> 8\u001b[1;33m         \u001b[1;34m'review'\u001b[0m\u001b[1;33m:\u001b[0m \u001b[0mroot\u001b[0m\u001b[1;33m.\u001b[0m\u001b[0mcssselect\u001b[0m\u001b[1;33m(\u001b[0m\u001b[1;34m'div.review span.reviewLength span.num'\u001b[0m\u001b[1;33m)\u001b[0m\u001b[1;33m[\u001b[0m\u001b[1;36m0\u001b[0m\u001b[1;33m]\u001b[0m\u001b[1;33m.\u001b[0m\u001b[0mtext_content\u001b[0m\u001b[1;33m(\u001b[0m\u001b[1;33m)\u001b[0m\u001b[1;33m,\u001b[0m\u001b[1;33m\u001b[0m\u001b[1;33m\u001b[0m\u001b[0m\n\u001b[0m\u001b[0;32m      9\u001b[0m         'content': [normalize_spaces(p.text_content())\n\u001b[0;32m     10\u001b[0m             \u001b[1;32mfor\u001b[0m \u001b[0mp\u001b[0m \u001b[1;32min\u001b[0m \u001b[0mroot\u001b[0m\u001b[1;33m.\u001b[0m\u001b[0mcssselect\u001b[0m\u001b[1;33m(\u001b[0m\u001b[1;34m'div.pdtViewCont p.pdtTxt'\u001b[0m\u001b[1;33m)\u001b[0m\u001b[1;33m\u001b[0m\u001b[1;33m\u001b[0m\u001b[0m\n",
      "\u001b[1;31mIndexError\u001b[0m: list index out of range"
     ]
    }
   ],
   "source": [
    "if __name__ == '__main__':\n",
    "    main()"
   ]
  },
  {
   "cell_type": "code",
   "execution_count": null,
   "metadata": {},
   "outputs": [],
   "source": []
  }
 ],
 "metadata": {
  "kernelspec": {
   "display_name": "Python 3",
   "language": "python",
   "name": "python3"
  },
  "language_info": {
   "codemirror_mode": {
    "name": "ipython",
    "version": 3
   },
   "file_extension": ".py",
   "mimetype": "text/x-python",
   "name": "python",
   "nbconvert_exporter": "python",
   "pygments_lexer": "ipython3",
   "version": "3.8.3"
  }
 },
 "nbformat": 4,
 "nbformat_minor": 4
}
